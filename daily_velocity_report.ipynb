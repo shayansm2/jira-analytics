{
 "cells": [
  {
   "cell_type": "code",
   "execution_count": 45,
   "metadata": {
    "collapsed": true
   },
   "outputs": [],
   "source": [
    "from JQLBuilder import JQLBuilder\n",
    "from Enums import Enums\n",
    "from JiraFacade import JiraFacade\n",
    "from typing import Optional"
   ]
  },
  {
   "cell_type": "code",
   "execution_count": 46,
   "outputs": [],
   "source": [
    "developed_statuses = ['Ready To Test', 'Testing', 'Test Passed', 'Ready To Deploy', 'Deployed', 'Done']\n",
    "not_started_statuses = ['Sprint Backlog']\n",
    "in_progress_statuses = ['In Progress', 'Code Review', 'Revision']\n",
    "invalid_statuses = ['Analysis', 'Product Backlog', 'Blocked', 'Closed']"
   ],
   "metadata": {
    "collapsed": false
   }
  },
  {
   "cell_type": "code",
   "execution_count": 47,
   "outputs": [],
   "source": [
    "def get_developer(assigned_to: str, status: str, developed_by: Optional[str]):\n",
    "    if developed_by:\n",
    "        return developed_by\n",
    "\n",
    "    if status in not_started_statuses + in_progress_statuses:\n",
    "        return assigned_to\n",
    "\n",
    "    return ''\n",
    "\n",
    "def get_state(status: str):\n",
    "    if status in developed_statuses:\n",
    "        return 'developed'\n",
    "    if status in not_started_statuses:\n",
    "        return 'not_started'\n",
    "    if status in in_progress_statuses:\n",
    "        return 'in_progress'\n",
    "    if status in invalid_statuses:\n",
    "        return 'invalid_ticket'\n",
    "    return ''\n"
   ],
   "metadata": {
    "collapsed": false
   }
  },
  {
   "cell_type": "code",
   "execution_count": 48,
   "outputs": [],
   "source": [
    "jql = JQLBuilder().set_project(Enums.project_shopping).set_sprints_from_squads(\n",
    "    squad_names=[Enums.squad_name_discovery, Enums.squad_name_omc],\n",
    "    sprint='04', quarter='3').get()"
   ],
   "metadata": {
    "collapsed": false
   }
  },
  {
   "cell_type": "code",
   "execution_count": 49,
   "outputs": [],
   "source": [
    "df = JiraFacade().get_df_from_jql(jql, 100)"
   ],
   "metadata": {
    "collapsed": false
   }
  },
  {
   "cell_type": "code",
   "execution_count": 50,
   "outputs": [],
   "source": [
    "df['developer'] = df.apply(lambda x: get_developer(x['assigned_to'], x['status'], x['developed_by']), axis=1)\n",
    "df['state'] = df.apply(lambda x: get_state(x['status']), axis=1)"
   ],
   "metadata": {
    "collapsed": false
   }
  },
  {
   "cell_type": "code",
   "execution_count": null,
   "outputs": [],
   "source": [
    "df.groupby(['squad_name', 'team_name', 'developer', 'state']).agg(\n",
    "    {'key': 'count', 'estimate': 'sum'}).reset_index().rename(\n",
    "    columns={'key': 'number_of_tickets', 'estimate': 'story_point'}).pivot(\n",
    "    index=['team_name', 'squad_name', 'developer'], columns=['state'],\n",
    "    values=['story_point', 'number_of_tickets']).fillna(0)"
   ],
   "metadata": {
    "collapsed": false,
    "pycharm": {
     "is_executing": true
    }
   }
  }
 ],
 "metadata": {
  "kernelspec": {
   "display_name": "Python 3",
   "language": "python",
   "name": "python3"
  },
  "language_info": {
   "codemirror_mode": {
    "name": "ipython",
    "version": 2
   },
   "file_extension": ".py",
   "mimetype": "text/x-python",
   "name": "python",
   "nbconvert_exporter": "python",
   "pygments_lexer": "ipython2",
   "version": "2.7.6"
  }
 },
 "nbformat": 4,
 "nbformat_minor": 0
}
