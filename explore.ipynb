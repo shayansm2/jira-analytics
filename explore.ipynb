{
 "cells": [
  {
   "cell_type": "code",
   "execution_count": 1,
   "metadata": {
    "collapsed": true
   },
   "outputs": [],
   "source": [
    "from JQLBuilder import JQLBuilder\n",
    "from Enums import Enums\n",
    "from JiraFacade import JiraFacade"
   ]
  },
  {
   "cell_type": "code",
   "execution_count": 59,
   "outputs": [],
   "source": [
    "jql = JQLBuilder().set_project(Enums.project_shopping).set_sprints_from_squads(Enums.squad_name_discovery, '03', '3').get()"
   ],
   "metadata": {
    "collapsed": false
   }
  },
  {
   "cell_type": "code",
   "execution_count": 60,
   "outputs": [],
   "source": [
    "df = JiraFacade().get_df_from_jql(jql, 100)"
   ],
   "metadata": {
    "collapsed": false
   }
  },
  {
   "cell_type": "markdown",
   "source": [
    "# out of plan report"
   ],
   "metadata": {
    "collapsed": false
   }
  },
  {
   "cell_type": "code",
   "execution_count": null,
   "outputs": [],
   "source": [
    "out_of_plan_report = df.groupby(['team_name', 'is_out_of_plan']).agg({'estimate': ['sum', 'count']}).reset_index()\n",
    "\n",
    "out_of_plan_report"
   ],
   "metadata": {
    "collapsed": false,
    "pycharm": {
     "is_executing": true
    }
   }
  },
  {
   "cell_type": "markdown",
   "source": [
    "# Status Report"
   ],
   "metadata": {
    "collapsed": false
   }
  },
  {
   "cell_type": "code",
   "execution_count": 64,
   "outputs": [],
   "source": [
    "delivered_statuses = [\n",
    "    'Ready To Test',\n",
    "    Enums.status_testing,\n",
    "    'Test Passed',\n",
    "    'Ready To Deploy',\n",
    "    Enums.status_deployed,\n",
    "    Enums.status_done,\n",
    "    Enums.status_closed\n",
    "]\n",
    "\n",
    "remaining_statuses = [\n",
    "    'In Progress',\n",
    "    'Sprint Backlog',\n",
    "    'Code Review',\n",
    "]\n",
    "\n",
    "revision_or_blocked_statuses = [\n",
    "    Enums.status_blocked,\n",
    "    Enums.status_revision,\n",
    "]"
   ],
   "metadata": {
    "collapsed": false
   }
  },
  {
   "cell_type": "code",
   "execution_count": null,
   "outputs": [],
   "source": [
    "def get_new_status(status: str):\n",
    "    if status in delivered_statuses:\n",
    "        return 'delivered'\n",
    "    if status in remaining_statuses:\n",
    "        return 'remained'\n",
    "    if status in revision_or_blocked_statuses:\n",
    "        return 'revision_or_blocked'\n",
    "    return 'unknown'\n",
    "\n",
    "\n",
    "status_report = df\n",
    "status_report['new_status'] = df.apply(lambda x: get_new_status(x['status']), axis=1)\n",
    "status_report = status_report.groupby(['team_name', 'new_status']).agg({'estimate': ['count', 'sum']}).reset_index()\n",
    "status_report.pivot(index='new_status', columns='team_name')"
   ],
   "metadata": {
    "collapsed": false,
    "pycharm": {
     "is_executing": true
    }
   }
  },
  {
   "cell_type": "code",
   "execution_count": null,
   "outputs": [],
   "source": [
    "detailed_status_report = df.groupby(['team_name', 'status']).agg({'key': 'count'}).reset_index()\n",
    "detailed_status_report = detailed_status_report.pivot(index='status', columns='team_name', values='key')\n",
    "detailed_status_report"
   ],
   "metadata": {
    "collapsed": false,
    "pycharm": {
     "is_executing": true
    }
   }
  }
 ],
 "metadata": {
  "kernelspec": {
   "display_name": "Python 3",
   "language": "python",
   "name": "python3"
  },
  "language_info": {
   "codemirror_mode": {
    "name": "ipython",
    "version": 2
   },
   "file_extension": ".py",
   "mimetype": "text/x-python",
   "name": "python",
   "nbconvert_exporter": "python",
   "pygments_lexer": "ipython2",
   "version": "2.7.6"
  }
 },
 "nbformat": 4,
 "nbformat_minor": 0
}
