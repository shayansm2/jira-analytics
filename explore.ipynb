{
 "cells": [
  {
   "cell_type": "code",
   "execution_count": 1,
   "metadata": {
    "collapsed": true
   },
   "outputs": [],
   "source": [
    "from JQLBuilder import JQLBuilder\n",
    "from Enums import Enums\n",
    "from JiraFacade import JiraFacade"
   ]
  },
  {
   "cell_type": "code",
   "execution_count": 2,
   "outputs": [],
   "source": [
    "jql = JQLBuilder().\\\n",
    "    set_project(Enums.project_shopping).\\\n",
    "    set_sprints_from_squads(Enums.squads_shopping_core, '03','3').\\\n",
    "    get()"
   ],
   "metadata": {
    "collapsed": false
   }
  },
  {
   "cell_type": "code",
   "execution_count": 4,
   "outputs": [],
   "source": [
    "df = JiraFacade().get_df_from_jql(jql, 100)"
   ],
   "metadata": {
    "collapsed": false
   }
  },
  {
   "cell_type": "markdown",
   "source": [
    "# out of plan report"
   ],
   "metadata": {
    "collapsed": false
   }
  },
  {
   "cell_type": "code",
   "execution_count": null,
   "outputs": [],
   "source": [
    "out_of_plan_report = df.groupby(['team_name', 'squad_name', 'is_out_of_plan'])\\\n",
    "    .agg({'estimate': ['sum', 'count']})\\\n",
    "    .reset_index()\n",
    "\n",
    "out_of_plan_report"
   ],
   "metadata": {
    "collapsed": false,
    "pycharm": {
     "is_executing": true
    }
   }
  }
 ],
 "metadata": {
  "kernelspec": {
   "display_name": "Python 3",
   "language": "python",
   "name": "python3"
  },
  "language_info": {
   "codemirror_mode": {
    "name": "ipython",
    "version": 2
   },
   "file_extension": ".py",
   "mimetype": "text/x-python",
   "name": "python",
   "nbconvert_exporter": "python",
   "pygments_lexer": "ipython2",
   "version": "2.7.6"
  }
 },
 "nbformat": 4,
 "nbformat_minor": 0
}
