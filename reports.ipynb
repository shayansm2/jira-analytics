{
 "cells": [
  {
   "cell_type": "code",
   "execution_count": 1,
   "metadata": {
    "collapsed": true
   },
   "outputs": [],
   "source": [
    "from DailyVelocityReport import DailyVelocityReport\n",
    "from DetailedDailyVelocityReport import DetailedDailyVelocityReport\n",
    "from OutOfPlanReport import OutOfPlanReport\n",
    "from Enums import Enums"
   ]
  },
  {
   "cell_type": "code",
   "execution_count": 4,
   "outputs": [],
   "source": [
    "squads = Enums.squad_name_omc\n",
    "sprint = '06'\n",
    "quarter = '4'"
   ],
   "metadata": {
    "collapsed": false
   }
  },
  {
   "cell_type": "code",
   "execution_count": 5,
   "outputs": [
    {
     "data": {
      "text/plain": "                                         story_point              \\\nstate                                      developed in_progress   \nteam_name squad_name developer                                     \napp       OMC        Ali.Ghahremanifar           0.0         0.0   \n                     Masoud.Vaezi                0.0         0.0   \n                     S.ShafieeMoghadam           0.0         0.0   \n                     Yousefi.Hasan               1.0         0.0   \nbackend   OMC        Ali.Fattahi                 0.0         0.0   \n                     Behrad.Fathi                8.0        74.0   \n                     Erfan.soltanloo            38.0         0.0   \n                     S.ShafieeMoghadam           0.0         0.0   \n                     a.mahdian                   4.0         0.0   \ndesign    OMC        Mahtab.Gholizadeh           0.0         0.0   \nfrontend  OMC        Mohammadreza.Hasani         9.0         4.0   \n\n                                                                     \\\nstate                                    invalid_ticket not_started   \nteam_name squad_name developer                                        \napp       OMC        Ali.Ghahremanifar              0.0         5.0   \n                     Masoud.Vaezi                   0.0         0.0   \n                     S.ShafieeMoghadam              0.0         0.0   \n                     Yousefi.Hasan                  0.0         0.0   \nbackend   OMC        Ali.Fattahi                    0.0         2.0   \n                     Behrad.Fathi                  20.0        49.0   \n                     Erfan.soltanloo                0.0         0.0   \n                     S.ShafieeMoghadam              0.0         0.0   \n                     a.mahdian                     40.0        42.0   \ndesign    OMC        Mahtab.Gholizadeh              0.0        60.0   \nfrontend  OMC        Mohammadreza.Hasani            5.0         3.0   \n\n                                         number_of_tickets              \\\nstate                                            developed in_progress   \nteam_name squad_name developer                                           \napp       OMC        Ali.Ghahremanifar                 0.0         2.0   \n                     Masoud.Vaezi                      1.0         0.0   \n                     S.ShafieeMoghadam                 0.0         0.0   \n                     Yousefi.Hasan                     1.0         0.0   \nbackend   OMC        Ali.Fattahi                       0.0         0.0   \n                     Behrad.Fathi                      2.0         6.0   \n                     Erfan.soltanloo                   3.0         0.0   \n                     S.ShafieeMoghadam                 0.0         0.0   \n                     a.mahdian                         2.0         1.0   \ndesign    OMC        Mahtab.Gholizadeh                 0.0         0.0   \nfrontend  OMC        Mohammadreza.Hasani               3.0         2.0   \n\n                                                                     \nstate                                    invalid_ticket not_started  \nteam_name squad_name developer                                       \napp       OMC        Ali.Ghahremanifar              0.0         3.0  \n                     Masoud.Vaezi                   0.0         0.0  \n                     S.ShafieeMoghadam              0.0         1.0  \n                     Yousefi.Hasan                  0.0         0.0  \nbackend   OMC        Ali.Fattahi                    0.0         1.0  \n                     Behrad.Fathi                   1.0         4.0  \n                     Erfan.soltanloo                0.0         0.0  \n                     S.ShafieeMoghadam              0.0         3.0  \n                     a.mahdian                      2.0         5.0  \ndesign    OMC        Mahtab.Gholizadeh              0.0         3.0  \nfrontend  OMC        Mohammadreza.Hasani            1.0         2.0  ",
      "text/html": "<div>\n<style scoped>\n    .dataframe tbody tr th:only-of-type {\n        vertical-align: middle;\n    }\n\n    .dataframe tbody tr th {\n        vertical-align: top;\n    }\n\n    .dataframe thead tr th {\n        text-align: left;\n    }\n\n    .dataframe thead tr:last-of-type th {\n        text-align: right;\n    }\n</style>\n<table border=\"1\" class=\"dataframe\">\n  <thead>\n    <tr>\n      <th></th>\n      <th></th>\n      <th></th>\n      <th colspan=\"4\" halign=\"left\">story_point</th>\n      <th colspan=\"4\" halign=\"left\">number_of_tickets</th>\n    </tr>\n    <tr>\n      <th></th>\n      <th></th>\n      <th>state</th>\n      <th>developed</th>\n      <th>in_progress</th>\n      <th>invalid_ticket</th>\n      <th>not_started</th>\n      <th>developed</th>\n      <th>in_progress</th>\n      <th>invalid_ticket</th>\n      <th>not_started</th>\n    </tr>\n    <tr>\n      <th>team_name</th>\n      <th>squad_name</th>\n      <th>developer</th>\n      <th></th>\n      <th></th>\n      <th></th>\n      <th></th>\n      <th></th>\n      <th></th>\n      <th></th>\n      <th></th>\n    </tr>\n  </thead>\n  <tbody>\n    <tr>\n      <th rowspan=\"4\" valign=\"top\">app</th>\n      <th rowspan=\"4\" valign=\"top\">OMC</th>\n      <th>Ali.Ghahremanifar</th>\n      <td>0.0</td>\n      <td>0.0</td>\n      <td>0.0</td>\n      <td>5.0</td>\n      <td>0.0</td>\n      <td>2.0</td>\n      <td>0.0</td>\n      <td>3.0</td>\n    </tr>\n    <tr>\n      <th>Masoud.Vaezi</th>\n      <td>0.0</td>\n      <td>0.0</td>\n      <td>0.0</td>\n      <td>0.0</td>\n      <td>1.0</td>\n      <td>0.0</td>\n      <td>0.0</td>\n      <td>0.0</td>\n    </tr>\n    <tr>\n      <th>S.ShafieeMoghadam</th>\n      <td>0.0</td>\n      <td>0.0</td>\n      <td>0.0</td>\n      <td>0.0</td>\n      <td>0.0</td>\n      <td>0.0</td>\n      <td>0.0</td>\n      <td>1.0</td>\n    </tr>\n    <tr>\n      <th>Yousefi.Hasan</th>\n      <td>1.0</td>\n      <td>0.0</td>\n      <td>0.0</td>\n      <td>0.0</td>\n      <td>1.0</td>\n      <td>0.0</td>\n      <td>0.0</td>\n      <td>0.0</td>\n    </tr>\n    <tr>\n      <th rowspan=\"5\" valign=\"top\">backend</th>\n      <th rowspan=\"5\" valign=\"top\">OMC</th>\n      <th>Ali.Fattahi</th>\n      <td>0.0</td>\n      <td>0.0</td>\n      <td>0.0</td>\n      <td>2.0</td>\n      <td>0.0</td>\n      <td>0.0</td>\n      <td>0.0</td>\n      <td>1.0</td>\n    </tr>\n    <tr>\n      <th>Behrad.Fathi</th>\n      <td>8.0</td>\n      <td>74.0</td>\n      <td>20.0</td>\n      <td>49.0</td>\n      <td>2.0</td>\n      <td>6.0</td>\n      <td>1.0</td>\n      <td>4.0</td>\n    </tr>\n    <tr>\n      <th>Erfan.soltanloo</th>\n      <td>38.0</td>\n      <td>0.0</td>\n      <td>0.0</td>\n      <td>0.0</td>\n      <td>3.0</td>\n      <td>0.0</td>\n      <td>0.0</td>\n      <td>0.0</td>\n    </tr>\n    <tr>\n      <th>S.ShafieeMoghadam</th>\n      <td>0.0</td>\n      <td>0.0</td>\n      <td>0.0</td>\n      <td>0.0</td>\n      <td>0.0</td>\n      <td>0.0</td>\n      <td>0.0</td>\n      <td>3.0</td>\n    </tr>\n    <tr>\n      <th>a.mahdian</th>\n      <td>4.0</td>\n      <td>0.0</td>\n      <td>40.0</td>\n      <td>42.0</td>\n      <td>2.0</td>\n      <td>1.0</td>\n      <td>2.0</td>\n      <td>5.0</td>\n    </tr>\n    <tr>\n      <th>design</th>\n      <th>OMC</th>\n      <th>Mahtab.Gholizadeh</th>\n      <td>0.0</td>\n      <td>0.0</td>\n      <td>0.0</td>\n      <td>60.0</td>\n      <td>0.0</td>\n      <td>0.0</td>\n      <td>0.0</td>\n      <td>3.0</td>\n    </tr>\n    <tr>\n      <th>frontend</th>\n      <th>OMC</th>\n      <th>Mohammadreza.Hasani</th>\n      <td>9.0</td>\n      <td>4.0</td>\n      <td>5.0</td>\n      <td>3.0</td>\n      <td>3.0</td>\n      <td>2.0</td>\n      <td>1.0</td>\n      <td>2.0</td>\n    </tr>\n  </tbody>\n</table>\n</div>"
     },
     "execution_count": 5,
     "metadata": {},
     "output_type": "execute_result"
    }
   ],
   "source": [
    "DailyVelocityReport(squads, sprint, quarter).get()"
   ],
   "metadata": {
    "collapsed": false
   }
  },
  {
   "cell_type": "code",
   "execution_count": 5,
   "outputs": [
    {
     "data": {
      "text/plain": "  squad_name team_name          developer        state  number_of_tickets  \\\n0       Plus       app  Ali.Ghahremanifar  not_started                  1   \n1       Plus   backend   Mikaeel.Ghorbani  not_started                  4   \n2       Plus   backend       Ramin.Shamsi    developed                  3   \n3       Plus   backend    Zamani.Mohammad  in_progress                  1   \n4       Plus   backend    mehdi.heidarian  not_started                  1   \n5       Plus  frontend   Mikaeel.Ghorbani  not_started                  1   \n6       Plus  frontend    Morteza.Sadeghi    developed                  3   \n7       Plus  frontend    Morteza.Sadeghi  in_progress                  1   \n\n   story_point                                            tickets  \n0          3.0      SHOP-3414 : APP  Free shipping TP on checkout  \n1         45.0  SHOP-3654 : Back-End  App - Plus On Checkout -...  \n2          6.0  SHOP-3677 : Back-End  Plus new TP on Product C...  \n3         80.0  SHOP-3556 : Back-End Rewrite the the Direct De...  \n4          0.0  SHOP-3490 : Back-End  Improve Cashback configs...  \n5          3.0  SHOP-3698 : Front-End  Data Section Title shou...  \n6          8.0  SHOP-3751 : Front-End  Plus on checkout  Data ...  \n7          8.0   SHOP-3519 : Front-End  CTA Sentence on Plus Page  ",
      "text/html": "<div>\n<style scoped>\n    .dataframe tbody tr th:only-of-type {\n        vertical-align: middle;\n    }\n\n    .dataframe tbody tr th {\n        vertical-align: top;\n    }\n\n    .dataframe thead th {\n        text-align: right;\n    }\n</style>\n<table border=\"1\" class=\"dataframe\">\n  <thead>\n    <tr style=\"text-align: right;\">\n      <th></th>\n      <th>squad_name</th>\n      <th>team_name</th>\n      <th>developer</th>\n      <th>state</th>\n      <th>number_of_tickets</th>\n      <th>story_point</th>\n      <th>tickets</th>\n    </tr>\n  </thead>\n  <tbody>\n    <tr>\n      <th>0</th>\n      <td>Plus</td>\n      <td>app</td>\n      <td>Ali.Ghahremanifar</td>\n      <td>not_started</td>\n      <td>1</td>\n      <td>3.0</td>\n      <td>SHOP-3414 : APP  Free shipping TP on checkout</td>\n    </tr>\n    <tr>\n      <th>1</th>\n      <td>Plus</td>\n      <td>backend</td>\n      <td>Mikaeel.Ghorbani</td>\n      <td>not_started</td>\n      <td>4</td>\n      <td>45.0</td>\n      <td>SHOP-3654 : Back-End  App - Plus On Checkout -...</td>\n    </tr>\n    <tr>\n      <th>2</th>\n      <td>Plus</td>\n      <td>backend</td>\n      <td>Ramin.Shamsi</td>\n      <td>developed</td>\n      <td>3</td>\n      <td>6.0</td>\n      <td>SHOP-3677 : Back-End  Plus new TP on Product C...</td>\n    </tr>\n    <tr>\n      <th>3</th>\n      <td>Plus</td>\n      <td>backend</td>\n      <td>Zamani.Mohammad</td>\n      <td>in_progress</td>\n      <td>1</td>\n      <td>80.0</td>\n      <td>SHOP-3556 : Back-End Rewrite the the Direct De...</td>\n    </tr>\n    <tr>\n      <th>4</th>\n      <td>Plus</td>\n      <td>backend</td>\n      <td>mehdi.heidarian</td>\n      <td>not_started</td>\n      <td>1</td>\n      <td>0.0</td>\n      <td>SHOP-3490 : Back-End  Improve Cashback configs...</td>\n    </tr>\n    <tr>\n      <th>5</th>\n      <td>Plus</td>\n      <td>frontend</td>\n      <td>Mikaeel.Ghorbani</td>\n      <td>not_started</td>\n      <td>1</td>\n      <td>3.0</td>\n      <td>SHOP-3698 : Front-End  Data Section Title shou...</td>\n    </tr>\n    <tr>\n      <th>6</th>\n      <td>Plus</td>\n      <td>frontend</td>\n      <td>Morteza.Sadeghi</td>\n      <td>developed</td>\n      <td>3</td>\n      <td>8.0</td>\n      <td>SHOP-3751 : Front-End  Plus on checkout  Data ...</td>\n    </tr>\n    <tr>\n      <th>7</th>\n      <td>Plus</td>\n      <td>frontend</td>\n      <td>Morteza.Sadeghi</td>\n      <td>in_progress</td>\n      <td>1</td>\n      <td>8.0</td>\n      <td>SHOP-3519 : Front-End  CTA Sentence on Plus Page</td>\n    </tr>\n  </tbody>\n</table>\n</div>"
     },
     "execution_count": 5,
     "metadata": {},
     "output_type": "execute_result"
    }
   ],
   "source": [
    "DetailedDailyVelocityReport(squads, sprint, quarter).get()"
   ],
   "metadata": {
    "collapsed": false
   }
  },
  {
   "cell_type": "code",
   "execution_count": 8,
   "outputs": [
    {
     "data": {
      "text/plain": "  team_name  is_out_of_plan  story point  number of tickets\n0       app           False         17.0                  5\n1       app            True          0.0                  2\n2   backend           False        278.0                 28\n3   backend            True          3.0                  3\n4    design           False         12.0                  1\n5  frontend           False         14.0                  6\n6  frontend            True          0.0                  1",
      "text/html": "<div>\n<style scoped>\n    .dataframe tbody tr th:only-of-type {\n        vertical-align: middle;\n    }\n\n    .dataframe tbody tr th {\n        vertical-align: top;\n    }\n\n    .dataframe thead th {\n        text-align: right;\n    }\n</style>\n<table border=\"1\" class=\"dataframe\">\n  <thead>\n    <tr style=\"text-align: right;\">\n      <th></th>\n      <th>team_name</th>\n      <th>is_out_of_plan</th>\n      <th>story point</th>\n      <th>number of tickets</th>\n    </tr>\n  </thead>\n  <tbody>\n    <tr>\n      <th>0</th>\n      <td>app</td>\n      <td>False</td>\n      <td>17.0</td>\n      <td>5</td>\n    </tr>\n    <tr>\n      <th>1</th>\n      <td>app</td>\n      <td>True</td>\n      <td>0.0</td>\n      <td>2</td>\n    </tr>\n    <tr>\n      <th>2</th>\n      <td>backend</td>\n      <td>False</td>\n      <td>278.0</td>\n      <td>28</td>\n    </tr>\n    <tr>\n      <th>3</th>\n      <td>backend</td>\n      <td>True</td>\n      <td>3.0</td>\n      <td>3</td>\n    </tr>\n    <tr>\n      <th>4</th>\n      <td>design</td>\n      <td>False</td>\n      <td>12.0</td>\n      <td>1</td>\n    </tr>\n    <tr>\n      <th>5</th>\n      <td>frontend</td>\n      <td>False</td>\n      <td>14.0</td>\n      <td>6</td>\n    </tr>\n    <tr>\n      <th>6</th>\n      <td>frontend</td>\n      <td>True</td>\n      <td>0.0</td>\n      <td>1</td>\n    </tr>\n  </tbody>\n</table>\n</div>"
     },
     "execution_count": 8,
     "metadata": {},
     "output_type": "execute_result"
    }
   ],
   "source": [
    "OutOfPlanReport(squads, sprint, quarter).get()"
   ],
   "metadata": {
    "collapsed": false
   }
  },
  {
   "cell_type": "code",
   "execution_count": null,
   "outputs": [],
   "source": [],
   "metadata": {
    "collapsed": false
   }
  }
 ],
 "metadata": {
  "kernelspec": {
   "display_name": "Python 3",
   "language": "python",
   "name": "python3"
  },
  "language_info": {
   "codemirror_mode": {
    "name": "ipython",
    "version": 2
   },
   "file_extension": ".py",
   "mimetype": "text/x-python",
   "name": "python",
   "nbconvert_exporter": "python",
   "pygments_lexer": "ipython2",
   "version": "2.7.6"
  }
 },
 "nbformat": 4,
 "nbformat_minor": 0
}
